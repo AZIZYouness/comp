{
  "cells": [
    {
      "cell_type": "code",
      "execution_count": null,
      "metadata": {
        "id": "BJga5ToQz_CT"
      },
      "outputs": [],
      "source": [
        "import pandas as pd\n",
        "import numpy as np\n",
        "from sklearn import model_selection\n",
        "from sklearn.metrics import accuracy_score\n",
        "import xgboost as xgb\n",
        "import warnings\n",
        "import matplotlib.pyplot as plt\n",
        "from scipy.stats import pearsonr\n",
        "import seaborn as sns\n",
        "\n",
        "warnings.filterwarnings('ignore')"
      ]
    },
    {
      "cell_type": "markdown",
      "metadata": {
        "id": "3FPMHB0U6h2N"
      },
      "source": [
        "## FE Team data"
      ]
    },
    {
      "cell_type": "code",
      "execution_count": null,
      "metadata": {
        "id": "okY85-rQ0iqo"
      },
      "outputs": [],
      "source": [
        "train_home_team_statistics_df = pd.read_csv('Train_Data/train_home_team_statistics_df.csv', index_col=0)\n",
        "train_away_team_statistics_df = pd.read_csv('Train_Data/train_away_team_statistics_df.csv', index_col=0)\n",
        "\n",
        "train_scores = pd.read_csv('Train_Data/Y_train.csv', index_col=0)\n",
        "train_scores_supp = pd.read_csv('benchmark_and_extras/Y_train_supp.csv', index_col=0)\n",
        "\n",
        "\n",
        "train_home = train_home_team_statistics_df.iloc[:,2:]\n",
        "train_away = train_away_team_statistics_df.iloc[:,2:]\n",
        "\n",
        "train_home.columns = 'HOME_' + train_home.columns\n",
        "train_away.columns = 'AWAY_' + train_away.columns\n",
        "\n",
        "train_data =  pd.concat([train_home,train_away],join='inner',axis=1)\n",
        "train_scores = train_scores.loc[train_data.index]\n",
        "\n",
        "train_data = train_data.replace({np.inf:np.nan,-np.inf:np.nan})\n",
        "\n",
        "train_data = train_data.fillna(train_data.median())\n",
        "\n",
        "\n",
        "test_home = pd.read_csv('Test_Data/test_home_team_statistics_df.csv', index_col=0)\n",
        "test_away = pd.read_csv('Test_Data/test_away_team_statistics_df.csv', index_col=0)\n",
        "\n",
        "test_home.columns = 'HOME_' + test_home.columns\n",
        "test_away.columns = 'AWAY_' + test_away.columns\n",
        "\n",
        "test_data =  pd.concat([test_home,test_away],join='inner',axis=1)\n",
        "\n",
        "test_data = test_data.fillna(test_data.median())\n",
        "\n"
      ]
    },
    {
      "cell_type": "code",
      "execution_count": null,
      "metadata": {
        "id": "nV6VHjLo6xbh"
      },
      "outputs": [],
      "source": [
        "def combine_outcomes(row):\n",
        "    if row['HOME_WINS'] == 1:\n",
        "        return 1\n",
        "    elif row['DRAW'] == 1:\n",
        "        return 0\n",
        "    elif row['AWAY_WINS'] == 1:\n",
        "        return 2\n",
        "\n",
        "train_scores['Outcome'] = train_scores.apply(combine_outcomes, axis=1)\n",
        "train_new_y = train_scores['Outcome']"
      ]
    },
    {
      "cell_type": "markdown",
      "metadata": {
        "id": "E95iwcqfVyeH"
      },
      "source": [
        "### Viz"
      ]
    },
    {
      "cell_type": "code",
      "execution_count": null,
      "metadata": {
        "colab": {
          "base_uri": "https://localhost:8080/",
          "height": 1000
        },
        "id": "Ehn5Hi-iREyI",
        "outputId": "80706f0e-f357-43c9-e22e-2ab50119e01d"
      },
      "outputs": [],
      "source": [
        "\n",
        "def summarize_dataframe(df):\n",
        "    summary_df = pd.DataFrame(df.dtypes, columns=['dtypes'])\n",
        "    summary_df['missing#'] = df.isna().sum().values*100\n",
        "    summary_df['missing%'] = (df.isna().sum().values*100)/len(df)\n",
        "    summary_df['uniques'] = df.nunique().values\n",
        "    summary_df['first_value'] = df.iloc[0].values\n",
        "    summary_df['last_value'] = df.iloc[len(df)-1].values\n",
        "    summary_df['count'] = df.count().values\n",
        "    desc = pd.DataFrame(df.describe().T)\n",
        "    summary_df['min'] = desc['min']\n",
        "    summary_df['max'] = desc['max']\n",
        "    summary_df['mean'] = desc['mean']\n",
        "    return summary_df\n",
        "\n",
        "summarize_dataframe(train_home).style.background_gradient(cmap='Blues')\n"
      ]
    },
    {
      "cell_type": "code",
      "execution_count": null,
      "metadata": {
        "colab": {
          "background_save": true,
          "base_uri": "https://localhost:8080/",
          "height": 1000
        },
        "id": "cf2qpFAMcjWV",
        "outputId": "686e7b50-ed09-4477-b492-e9d19a55a9d2"
      },
      "outputs": [],
      "source": [
        "import missingno as msno\n",
        "msno.bar(train_home, color=(0.3,0.3,0.5))"
      ]
    },
    {
      "cell_type": "code",
      "execution_count": null,
      "metadata": {
        "id": "9ZwAxEjnf-7O"
      },
      "outputs": [],
      "source": []
    },
    {
      "cell_type": "code",
      "execution_count": null,
      "metadata": {
        "colab": {
          "background_save": true
        },
        "id": "UMDjTJktgF7A",
        "outputId": "b42b7a34-2aa5-4b58-b0c4-3c58898fe67d"
      },
      "outputs": [],
      "source": [
        "import sweetviz\n",
        "train_data_all = pd.concat([train_home, train_scores['Outcome']], axis=1)\n",
        "\n",
        "my_report = sweetviz.compare([train_data_all, \"Train\"], [test_home, \"Test\"], \"Outcome\")"
      ]
    },
    {
      "cell_type": "code",
      "execution_count": null,
      "metadata": {
        "colab": {
          "base_uri": "https://localhost:8080/",
          "height": 452
        },
        "id": "0Dqolrw5Vt5M",
        "outputId": "0d649476-dec3-4674-8f0a-a13c9bb8d619"
      },
      "outputs": [],
      "source": [
        "plt.hist(train_data['HOME_TEAM_SHOTS_TOTAL_season_sum'], label='train');\n",
        "plt.legend();\n",
        "plt.title('Distribution of HOME_TEAM_SHOTS_TOTAL_season_sum');"
      ]
    },
    {
      "cell_type": "code",
      "execution_count": null,
      "metadata": {
        "colab": {
          "base_uri": "https://localhost:8080/",
          "height": 430
        },
        "id": "k949eskqVtES",
        "outputId": "7e0c0c60-8f5a-42bb-9dc3-09296b99a0be"
      },
      "outputs": [],
      "source": [
        "plt.hist(test_data['HOME_TEAM_SHOTS_TOTAL_season_sum'], label='test');\n"
      ]
    },
    {
      "cell_type": "code",
      "execution_count": null,
      "metadata": {
        "colab": {
          "base_uri": "https://localhost:8080/"
        },
        "id": "vQCPeKj_XRWr",
        "outputId": "8c049a80-3789-479d-da54-89b21c90490b"
      },
      "outputs": [],
      "source": [
        "train_data.columns[140:160]"
      ]
    },
    {
      "cell_type": "code",
      "execution_count": null,
      "metadata": {
        "colab": {
          "base_uri": "https://localhost:8080/",
          "height": 455
        },
        "id": "5sZ3B79MXUbF",
        "outputId": "c3117fc5-8a5c-47a9-ab0f-b9ef4a4aa2bf"
      },
      "outputs": [],
      "source": [
        "train_data_all = pd.concat([pythagorean_train_small, train_scores['HOME_WINS']], axis=1)\n",
        "train_data_all"
      ]
    },
    {
      "cell_type": "code",
      "execution_count": null,
      "metadata": {
        "colab": {
          "base_uri": "https://localhost:8080/"
        },
        "id": "94dyYsKqi5jd",
        "outputId": "a571423c-89c2-42e9-80b1-b8e5da5a260d"
      },
      "outputs": [],
      "source": [
        "train_data_all.columns"
      ]
    },
    {
      "cell_type": "code",
      "execution_count": null,
      "metadata": {
        "id": "ITHdJvHrZErM"
      },
      "outputs": [],
      "source": [
        "p=12.4\n",
        "train_data_all['PYTH_HOME'] = (train_data_all['HOME_TEAM_GAME_WON_5_last_match_sum'] ** p) / ((train_data_all['HOME_TEAM_GAME_WON_5_last_match_sum'] ** p) + (train_data_all['HOME_TEAM_GAME_LOST_5_last_match_sum'] ** p))"
      ]
    },
    {
      "cell_type": "code",
      "execution_count": null,
      "metadata": {
        "colab": {
          "base_uri": "https://localhost:8080/",
          "height": 696
        },
        "id": "WRuKB5UIVs22",
        "outputId": "a886ef7a-6e37-4cfe-eabf-9dfbe6464bf4"
      },
      "outputs": [],
      "source": [
        "import seaborn as sns\n",
        "\n",
        "plt.figure(figsize=(12, 8))\n",
        "feat = \"PYTHAGOREAN_season_sum\"\n",
        "plt.subplot(1,2,1)\n",
        "sns.violinplot(x = 'HOME_WINS', y = feat, data = train_data_all[0:])\n",
        "\n",
        "plt.subplot(1,2,2)\n",
        "sns.distplot(train_data_all[train_data_all['HOME_WINS'] == 1.0][feat][0:] , label = \"1\", color = 'red')\n",
        "sns.distplot(train_data_all[train_data_all['HOME_WINS'] == 0.0][feat][0:] , label = \"0\" , color = 'blue' )\n",
        "sns.distplot(train_data_all[train_data_all['HOME_WINS'] == 2.0][feat][0:] , label = \"2\" , color = 'yellow' )\n",
        "\n",
        "plt.show()"
      ]
    },
    {
      "cell_type": "code",
      "execution_count": null,
      "metadata": {
        "colab": {
          "base_uri": "https://localhost:8080/",
          "height": 1000
        },
        "id": "r0X1eBJSXEbG",
        "outputId": "d054de4a-1243-4916-bcdf-dcfdc354b58e"
      },
      "outputs": [],
      "source": [
        "n = train_data_all.shape[0]\n",
        "sns.pairplot(train_data_all[['PYTHAGOREAN_5_last_match_sum', 'PYTHAGOREAN_5_last_match_average',\n",
        "       'PYTHAGOREAN_season_sum', 'PYTHAGOREAN_season_average', 'HOME_WINS']][0:n], hue='HOME_WINS', vars=['PYTHAGOREAN_5_last_match_sum', 'PYTHAGOREAN_5_last_match_average',\n",
        "       'PYTHAGOREAN_season_sum', 'PYTHAGOREAN_season_average'])\n",
        "plt.show()"
      ]
    },
    {
      "cell_type": "code",
      "execution_count": null,
      "metadata": {
        "id": "CS9pq9Dck5qg"
      },
      "outputs": [],
      "source": []
    },
    {
      "cell_type": "markdown",
      "metadata": {
        "id": "j7DwWWvhbYov"
      },
      "source": [
        "### Preprocessing"
      ]
    },
    {
      "cell_type": "code",
      "execution_count": null,
      "metadata": {
        "id": "owRwkoOxbiEN"
      },
      "outputs": [],
      "source": [
        "def add_missing_indicators(df, missing_threshold=0.01, consider_columns=None):\n",
        "    if consider_columns is None:\n",
        "        consider_columns = df.columns\n",
        "\n",
        "    missing_stats = df[consider_columns].isna().mean()\n",
        "    features_with_lots_of_nans = missing_stats[missing_stats > missing_threshold].index.tolist()\n",
        "    print(features_with_lots_of_nans)\n",
        "    for feature in features_with_lots_of_nans:\n",
        "        indicator_feature_name = f\"{feature}_is_nan\"\n",
        "        df[indicator_feature_name] = df[feature].isna().astype(int)\n",
        "    return df\n",
        "\n",
        "def process_dataframe(df):\n",
        "    selected_features = df.columns[2:]\n",
        "    df['Selected_NaN_Count'] = df[selected_features].isna().sum(axis=1)\n",
        "\n",
        "    df_columns = df.iloc[:,2:].columns.to_list()\n",
        "    for feat in df_columns:\n",
        "        df[feat] = df.groupby('TEAM_NAME')[feat].transform(lambda x: x.fillna(x.mode().iloc[0] if not x.mode().empty else x.mean()))\n",
        "\n",
        "    df.iloc[:, 2:] = df.iloc[:, 2:].fillna(\n",
        "        df.iloc[:, 2:].mean()\n",
        "    )\n",
        "\n",
        "    return df"
      ]
    },
    {
      "cell_type": "code",
      "execution_count": null,
      "metadata": {
        "id": "rBsfHgUkbW51"
      },
      "outputs": [],
      "source": [
        "train_home_team_statistics_df = add_missing_indicators(train_home_team_statistics_df, missing_threshold=0.1)\n",
        "train_home_team_statistics_df = process_dataframe(train_home_team_statistics_df)\n",
        "\n",
        "\n",
        "train_away_team_statistics_df = add_missing_indicators(train_away_team_statistics_df, missing_threshold=0.1)\n",
        "train_away_team_statistics_df = process_dataframe(train_away_team_statistics_df)"
      ]
    },
    {
      "cell_type": "markdown",
      "metadata": {
        "id": "A4SCAJT4k6jC"
      },
      "source": [
        "## Pythagorean Feat"
      ]
    },
    {
      "cell_type": "markdown",
      "metadata": {
        "id": "nqv4MRBalGJ2"
      },
      "source": [
        "### Home WON vs LOST"
      ]
    },
    {
      "cell_type": "code",
      "execution_count": null,
      "metadata": {
        "colab": {
          "base_uri": "https://localhost:8080/"
        },
        "id": "yD0zohEKg7xe",
        "outputId": "b1bacae8-33cf-45de-ee58-f2be840d1656"
      },
      "outputs": [],
      "source": [
        "def optimize_p(home_values, away_values, target, p_values):\n",
        "    best_p = None\n",
        "    best_corr = 0\n",
        "    for p in p_values:\n",
        "        pythagorean_feature = calculate_pythagorean_feature(home_values, away_values, p)\n",
        "        corr, _ = pearsonr(pythagorean_feature, target)\n",
        "        if abs(corr) > abs(best_corr):\n",
        "            best_corr = abs(corr)\n",
        "            best_p = p\n",
        "    return best_p, best_corr\n",
        "\n",
        "def calculate_pythagorean_feature(home_values, away_values, p):\n",
        "    epsilon = 1e-5\n",
        "    pythagorean_feature = (home_values + epsilon) ** p / ((home_values + epsilon) ** p + (away_values + epsilon) ** p)\n",
        "    return np.nan_to_num(pythagorean_feature, nan=0.0, posinf=0.0, neginf=0.0)\n",
        "\n",
        "\n",
        "feature_pairs = [\n",
        "    ('HOME_TEAM_GAME_WON_5_last_match_sum', 'HOME_TEAM_GAME_LOST_5_last_match_sum'),\n",
        "    ('HOME_TEAM_GAME_WON_5_last_match_average', 'HOME_TEAM_GAME_LOST_5_last_match_average'),\n",
        "    ('HOME_TEAM_GAME_WON_season_sum', 'HOME_TEAM_GAME_LOST_season_sum'),\n",
        "    ('HOME_TEAM_GAME_WON_season_average', 'HOME_TEAM_GAME_LOST_season_average')\n",
        "]\n",
        "\n",
        "target = train_scores['HOME_WINS']\n",
        "p_values = np.arange(1.01, 6.01, 0.01)\n",
        "\n",
        "pythagorean_train_small_home = pd.DataFrame(index=train_data.index)\n",
        "\n",
        "optimal_p_values = {}\n",
        "\n",
        "for home_feat, away_feat in feature_pairs:\n",
        "    home_values = train_data[home_feat]\n",
        "    away_values = train_data[away_feat]\n",
        "\n",
        "    best_p, best_corr = optimize_p(home_values, away_values, target, p_values)\n",
        "    optimal_p_values[home_feat] = best_p\n",
        "\n",
        "    pythagorean_feature = calculate_pythagorean_feature(home_values, away_values, best_p)\n",
        "\n",
        "    new_feature_name = f\"PYTHAGOREAN_HOME_{home_feat.replace('HOME_TEAM_GAME_WON_', '')}\"\n",
        "    pythagorean_train_small_home[new_feature_name] = pythagorean_feature\n",
        "\n",
        "    print(f\"Best p for {home_feat} vs. {away_feat}: {best_p} (Correlation: {best_corr})\")\n"
      ]
    },
    {
      "cell_type": "code",
      "execution_count": null,
      "metadata": {
        "id": "ng1vbmIvhcUp"
      },
      "outputs": [],
      "source": [
        "pythagorean_test_small_home = pd.DataFrame(index=test_data.index)\n",
        "\n",
        "for home_feat, away_feat in feature_pairs:\n",
        "    home_values = test_data[home_feat]\n",
        "    away_values = test_data[away_feat]\n",
        "    best_p = optimal_p_values[home_feat]\n",
        "\n",
        "    pythagorean_feature = calculate_pythagorean_feature(home_values, away_values, best_p)\n",
        "\n",
        "    new_feature_name = f\"PYTHAGOREAN_HOME_{home_feat.replace('HOME_TEAM_GAME_WON_', '')}\"\n",
        "    pythagorean_test_small_home[new_feature_name] = pythagorean_feature"
      ]
    },
    {
      "cell_type": "code",
      "execution_count": null,
      "metadata": {
        "colab": {
          "base_uri": "https://localhost:8080/",
          "height": 475
        },
        "id": "6ba5bk0wkGGq",
        "outputId": "c2b3d5eb-0dca-4c19-bdfd-4615a617792f"
      },
      "outputs": [],
      "source": [
        "pythagorean_test_small_home"
      ]
    },
    {
      "cell_type": "markdown",
      "metadata": {
        "id": "9wHtT6F3lShb"
      },
      "source": [
        "### AWAY WON vs LOST"
      ]
    },
    {
      "cell_type": "code",
      "execution_count": null,
      "metadata": {
        "colab": {
          "base_uri": "https://localhost:8080/"
        },
        "id": "846wu5mqlVnA",
        "outputId": "b161ccd6-afe1-4d04-8b1e-db8613dc5d7a"
      },
      "outputs": [],
      "source": [
        "feature_pairs = [\n",
        "    ('AWAY_TEAM_GAME_WON_5_last_match_sum', 'AWAY_TEAM_GAME_LOST_5_last_match_sum'),\n",
        "    ('AWAY_TEAM_GAME_WON_5_last_match_average', 'AWAY_TEAM_GAME_LOST_5_last_match_average'),\n",
        "    ('AWAY_TEAM_GAME_WON_season_sum', 'AWAY_TEAM_GAME_LOST_season_sum'),\n",
        "    ('AWAY_TEAM_GAME_WON_season_average', 'AWAY_TEAM_GAME_LOST_season_average')\n",
        "]\n",
        "\n",
        "target = train_scores['AWAY_WINS']\n",
        "p_values = np.arange(1.01, 6.01, 0.01)\n",
        "\n",
        "pythagorean_train_small_away = pd.DataFrame(index=train_data.index)\n",
        "\n",
        "optimal_p_values = {}\n",
        "\n",
        "for home_feat, away_feat in feature_pairs:\n",
        "    home_values = train_data[home_feat]\n",
        "    away_values = train_data[away_feat]\n",
        "\n",
        "    best_p, best_corr = optimize_p(home_values, away_values, target, p_values)\n",
        "    optimal_p_values[home_feat] = best_p\n",
        "\n",
        "    pythagorean_feature = calculate_pythagorean_feature(home_values, away_values, best_p)\n",
        "\n",
        "    new_feature_name = f\"PYTHAGOREAN_AWAY_{home_feat.replace('AWAY_TEAM_GAME_WON_', '')}\"\n",
        "    pythagorean_train_small_away[new_feature_name] = pythagorean_feature\n",
        "\n",
        "    print(f\"Best p for {home_feat} vs. {away_feat}: {best_p} (Correlation: {best_corr})\")"
      ]
    },
    {
      "cell_type": "code",
      "execution_count": null,
      "metadata": {
        "id": "HNw0LOkelVd1"
      },
      "outputs": [],
      "source": [
        "pythagorean_test_small_away = pd.DataFrame(index=test_data.index)\n",
        "\n",
        "for home_feat, away_feat in feature_pairs:\n",
        "    home_values = test_data[home_feat]\n",
        "    away_values = test_data[away_feat]\n",
        "    best_p = optimal_p_values[home_feat]\n",
        "\n",
        "    pythagorean_feature = calculate_pythagorean_feature(home_values, away_values, best_p)\n",
        "\n",
        "    new_feature_name = f\"PYTHAGOREAN_AWAY_{home_feat.replace('AWAY_TEAM_GAME_WON_', '')}\"\n",
        "    pythagorean_test_small_away[new_feature_name] = pythagorean_feature"
      ]
    },
    {
      "cell_type": "markdown",
      "metadata": {
        "id": "fPHF1pxXqbFb"
      },
      "source": []
    },
    {
      "cell_type": "markdown",
      "metadata": {
        "id": "8khZMmjC46fZ"
      },
      "source": [
        "### Pyth HOME WINS"
      ]
    },
    {
      "cell_type": "code",
      "execution_count": null,
      "metadata": {
        "colab": {
          "base_uri": "https://localhost:8080/"
        },
        "id": "3Uw2RtTK6xUv",
        "outputId": "62fdf8a7-a1d0-4fe3-ed4c-3d1d9e828368"
      },
      "outputs": [],
      "source": [
        "def optimize_p(home_feat, away_feat, target, p_values):\n",
        "    best_p = None\n",
        "    best_corr = 0\n",
        "\n",
        "    for p in p_values:\n",
        "        epsilon = 1e-5\n",
        "        home_values = train_data[home_feat] + epsilon\n",
        "        away_values = train_data[away_feat] + epsilon\n",
        "\n",
        "        pythagorean_feature = (home_values ** p) / ((home_values ** p) + (away_values ** p))\n",
        "        # pythagorean_feature = (home_values ** p)\n",
        "\n",
        "        pythagorean_feature = np.nan_to_num(pythagorean_feature, nan=0.0, posinf=0.0, neginf=0.0)\n",
        "\n",
        "        corr, _ = pearsonr(pythagorean_feature, target)\n",
        "\n",
        "        if abs(corr) > abs(best_corr):\n",
        "            best_corr = abs(corr)\n",
        "            best_p = p\n",
        "\n",
        "    return best_p, best_corr\n",
        "\n",
        "p_values = np.arange(1.01, 6.01, 0.01)\n",
        "optimal_p_values_home_wins = {}\n",
        "optimal_corr = 0\n",
        "for home_feat, away_feat in zip(train_home.columns, train_away.columns):\n",
        "    best_p, best_corr = optimize_p(home_feat, away_feat, train_scores['HOME_WINS'], p_values)\n",
        "    print(f\"Best p for {home_feat} vs. {away_feat}: {best_p} (Correlation: {best_corr})\")\n",
        "    optimal_p_values_home_wins[home_feat] = best_p\n",
        "    optimal_corr += best_corr"
      ]
    },
    {
      "cell_type": "markdown",
      "metadata": {
        "id": "wwAWQrbI8eiq"
      },
      "source": []
    },
    {
      "cell_type": "code",
      "execution_count": null,
      "metadata": {
        "colab": {
          "background_save": true
        },
        "id": "IM6pXV5t6xNA"
      },
      "outputs": [],
      "source": [
        "def calculate_pythagorean_feature(home_values, away_values, p):\n",
        "    epsilon = 1e-5\n",
        "    pythagorean_feature = (home_values + epsilon) ** p / ((home_values + epsilon) ** p + (away_values + epsilon) ** p)\n",
        "    return np.nan_to_num(pythagorean_feature, nan=0.0, posinf=0.0, neginf=0.0)\n",
        "\n",
        "pythagorean_train_df_home_wins = pd.DataFrame(index=train_data.index)\n",
        "\n",
        "for home_feat, away_feat in zip(train_home.columns, train_away.columns):\n",
        "    home_values = train_data[home_feat]\n",
        "    away_values = train_data[away_feat]\n",
        "    best_p = optimal_p_values_home_wins[home_feat]\n",
        "\n",
        "    pythagorean_feature = calculate_pythagorean_feature(home_values, away_values, best_p)\n",
        "\n",
        "    new_feature_name = f\"PYTHAG_HOME_WINS_{home_feat.replace('HOME_', '')}\"\n",
        "    pythagorean_train_df_home_wins[new_feature_name] = pythagorean_feature\n",
        "\n"
      ]
    },
    {
      "cell_type": "markdown",
      "metadata": {
        "id": "u4sIlqSW8UC5"
      },
      "source": [
        "\n",
        "\n",
        "```\n",
        "# Ce texte est au format code\n",
        "```\n",
        "\n"
      ]
    },
    {
      "cell_type": "code",
      "execution_count": null,
      "metadata": {
        "colab": {
          "background_save": true
        },
        "id": "DvxQFVOM6xDn"
      },
      "outputs": [],
      "source": [
        "pythagorean_test_df_home_wins = pd.DataFrame(index=test_data.index)\n",
        "\n",
        "for home_feat, away_feat in zip(test_home.columns, test_away.columns):\n",
        "    home_values = test_data[home_feat]\n",
        "    away_values = test_data[away_feat]\n",
        "    best_p = optimal_p_values_home_wins[home_feat]\n",
        "\n",
        "    pythagorean_feature = calculate_pythagorean_feature(home_values, away_values, best_p)\n",
        "\n",
        "    new_feature_name = f\"PYTHAG_HOME_WINS_{home_feat.replace('HOME_', '')}\"\n",
        "    pythagorean_test_df_home_wins[new_feature_name] = pythagorean_feature\n",
        "\n"
      ]
    },
    {
      "cell_type": "markdown",
      "metadata": {
        "id": "Te7oGddy4rpZ"
      },
      "source": [
        "### Pyth AWAY WINS"
      ]
    },
    {
      "cell_type": "code",
      "execution_count": null,
      "metadata": {
        "colab": {
          "base_uri": "https://localhost:8080/"
        },
        "id": "arUz3rpX4qzn",
        "outputId": "87659b93-fbaf-49eb-e964-2143c7e117f4"
      },
      "outputs": [],
      "source": [
        "def optimize_p(home_feat, away_feat, target, p_values):\n",
        "    best_p = None\n",
        "    best_corr = 0\n",
        "\n",
        "    for p in p_values:\n",
        "        epsilon = 1e-5\n",
        "        home_values = train_data[home_feat] + epsilon\n",
        "        away_values = train_data[away_feat] + epsilon\n",
        "\n",
        "        pythagorean_feature = (away_values ** p) / ((away_values ** p) + (home_values ** p))\n",
        "        # pythagorean_feature = (home_values ** p)\n",
        "\n",
        "        pythagorean_feature = np.nan_to_num(pythagorean_feature, nan=0.0, posinf=0.0, neginf=0.0)\n",
        "\n",
        "        corr, _ = pearsonr(pythagorean_feature, target)\n",
        "\n",
        "        if abs(corr) > abs(best_corr):\n",
        "            best_corr = abs(corr)\n",
        "            best_p = p\n",
        "\n",
        "    return best_p, best_corr\n",
        "\n",
        "p_values = np.arange(1.01, 6.01, 0.01)\n",
        "optimal_p_values_home_wins = {}\n",
        "optimal_corr = 0\n",
        "for home_feat, away_feat in zip(train_home.columns, train_away.columns):\n",
        "    best_p, best_corr = optimize_p(home_feat, away_feat, train_scores['AWAY_WINS'], p_values)\n",
        "    print(f\"Best p for {home_feat} vs. {away_feat}: {best_p} (Correlation: {best_corr})\")\n",
        "    optimal_p_values_home_wins[home_feat] = best_p\n",
        "    optimal_corr += best_corr"
      ]
    },
    {
      "cell_type": "code",
      "execution_count": null,
      "metadata": {
        "id": "A2t5K9LL4qVw"
      },
      "outputs": [],
      "source": [
        "def calculate_pythagorean_feature(home_values, away_values, p):\n",
        "    epsilon = 1e-5\n",
        "    pythagorean_feature = (away_values + epsilon) ** p / ((away_values + epsilon) ** p + (home_values + epsilon) ** p)\n",
        "    return np.nan_to_num(pythagorean_feature, nan=0.0, posinf=0.0, neginf=0.0)\n",
        "\n",
        "pythagorean_train_df_away_wins = pd.DataFrame(index=train_data.index)\n",
        "\n",
        "for home_feat, away_feat in zip(train_home.columns, train_away.columns):\n",
        "    home_values = train_data[home_feat]\n",
        "    away_values = train_data[away_feat]\n",
        "    best_p = optimal_p_values_home_wins[home_feat]\n",
        "\n",
        "    pythagorean_feature = calculate_pythagorean_feature(home_values, away_values, best_p)\n",
        "\n",
        "    new_feature_name = f\"PYTHAG_AWAY_WINS_{home_feat.replace('HOME_', '')}\"\n",
        "    pythagorean_train_df_away_wins[new_feature_name] = pythagorean_feature\n",
        "\n"
      ]
    },
    {
      "cell_type": "code",
      "execution_count": null,
      "metadata": {
        "id": "fYI0aJxq4p4W"
      },
      "outputs": [],
      "source": [
        "pythagorean_test_df_away_wins = pd.DataFrame(index=test_data.index)\n",
        "\n",
        "for home_feat, away_feat in zip(test_home.columns, test_away.columns):\n",
        "    home_values = test_data[home_feat]\n",
        "    away_values = test_data[away_feat]\n",
        "    best_p = optimal_p_values_home_wins[home_feat]\n",
        "\n",
        "    pythagorean_feature = calculate_pythagorean_feature(home_values, away_values, best_p)\n",
        "\n",
        "    new_feature_name = f\"PYTHAG_AWAY_WINS_{home_feat.replace('HOME_', '')}\"\n",
        "    pythagorean_test_df_away_wins[new_feature_name] = pythagorean_feature\n",
        "\n"
      ]
    },
    {
      "cell_type": "code",
      "execution_count": null,
      "metadata": {
        "colab": {
          "base_uri": "https://localhost:8080/"
        },
        "id": "Y_al-m7fF1EE",
        "outputId": "0c847913-02ec-4b92-f31c-feb9d170cf2d"
      },
      "outputs": [],
      "source": [
        "pythagorean_test_df_away_wins.shape"
      ]
    },
    {
      "cell_type": "markdown",
      "metadata": {},
      "source": [
        "### Concat pyth with base data"
      ]
    },
    {
      "cell_type": "code",
      "execution_count": null,
      "metadata": {
        "colab": {
          "background_save": true
        },
        "id": "QirNqr8e6wqX"
      },
      "outputs": [],
      "source": [
        "# train_data = pd.concat([train_data, pythagorean_train_df_away_wins, pythagorean_train_df_home_wins, pythagorean_train_small_away, pythagorean_train_small_home], axis=1)\n",
        "# test_data = pd.concat([test_data, pythagorean_test_df_away_wins, pythagorean_test_df_home_wins, pythagorean_test_small_away, pythagorean_test_small_home], axis=1)\n",
        "\n",
        "train_data = pd.concat([train_data, pythagorean_train_df_home_wins, pythagorean_train_small_away, pythagorean_train_small_home], axis=1)\n",
        "test_data = pd.concat([test_data, pythagorean_test_df_home_wins, pythagorean_test_small_away, pythagorean_test_small_home], axis=1)\n",
        "\n",
        "\n",
        "#test_data = pd.concat([test_data, pythagorean_test_df], axis=1)"
      ]
    },
    {
      "cell_type": "code",
      "execution_count": null,
      "metadata": {
        "colab": {
          "background_save": true
        },
        "id": "F-FyP4Uc6wUD"
      },
      "outputs": [],
      "source": [
        "train_data['is_train'] = 1\n",
        "test_data['is_train'] = 0\n",
        "\n",
        "combined_data = pd.concat([train_data, test_data], axis=0).reset_index(drop=True)"
      ]
    },
    {
      "cell_type": "code",
      "execution_count": null,
      "metadata": {
        "colab": {
          "background_save": true,
          "base_uri": "https://localhost:8080/"
        },
        "id": "yUU6uUeg43Bn",
        "outputId": "438c7987-8723-4077-d17c-10510d871d0d"
      },
      "outputs": [],
      "source": [
        "test_data.shape"
      ]
    },
    {
      "cell_type": "markdown",
      "metadata": {
        "id": "H0hJCsKOZU8D"
      },
      "source": [
        "### FE"
      ]
    },
    {
      "cell_type": "markdown",
      "metadata": {
        "id": "iju4xXKeZ1F_"
      },
      "source": [
        "#### Offensive metrics"
      ]
    },
    {
      "cell_type": "code",
      "execution_count": null,
      "metadata": {
        "colab": {
          "background_save": true
        },
        "id": "D5ZTNx6jZfU-"
      },
      "outputs": [],
      "source": [
        "timeframes = ['season', '5_last_match']\n",
        "for timeframe in timeframes:\n",
        "\n",
        "    # Defensive and Offensive balance\n",
        "    combined_data[f'defensive_offensive_balance_home_{timeframe}'] = combined_data[f'HOME_TEAM_SAVES_{timeframe}_sum'] / (combined_data[f'HOME_TEAM_GOALS_{timeframe}_sum'] + 1)\n",
        "    combined_data[f'defensive_offensive_balance_away_{timeframe}'] = combined_data[f'AWAY_TEAM_SAVES_{timeframe}_sum'] / (combined_data[f'AWAY_TEAM_GOALS_{timeframe}_sum'] + 1)\n",
        "    # Attack Efficiency\n",
        "    combined_data[f'HOME_attack_efficiency_{timeframe}'] = combined_data[f'HOME_TEAM_GOALS_{timeframe}_sum'] / (combined_data[f'HOME_TEAM_SHOTS_ON_TARGET_{timeframe}_sum'] + 1)\n",
        "    combined_data[f'AWAY_attack_efficiency_{timeframe}'] = combined_data[f'AWAY_TEAM_GOALS_{timeframe}_sum'] / (combined_data[f'AWAY_TEAM_SHOTS_ON_TARGET_{timeframe}_sum'] + 1)\n",
        "    #Shot Accuracy\n",
        "    combined_data[f'HOME_shot_accuracy_{timeframe}'] = combined_data[f'HOME_TEAM_SHOTS_ON_TARGET_{timeframe}_sum'] / (combined_data[f'HOME_TEAM_SHOTS_TOTAL_{timeframe}_sum'] + 1)\n",
        "    combined_data[f'AWAY_shot_accuracy_{timeframe}'] = combined_data[f'AWAY_TEAM_SHOTS_ON_TARGET_{timeframe}_sum'] / (combined_data[f'AWAY_TEAM_SHOTS_TOTAL_{timeframe}_sum'] + 1)\n",
        "    #penalty_success_rate\n",
        "    combined_data[f'HOME_penalty_success_rate_{timeframe}'] = combined_data[f'HOME_TEAM_PENALTIES_{timeframe}_sum'] / (combined_data[f'HOME_TEAM_GOALS_{timeframe}_sum'] + 1)\n",
        "    combined_data[f'AWAY_penalty_success_rate_{timeframe}'] = combined_data[f'AWAY_TEAM_PENALTIES_{timeframe}_sum'] / (combined_data[f'AWAY_TEAM_GOALS_{timeframe}_sum'] + 1)\n",
        "    #possession_goal_ratio\n",
        "    combined_data[f'HOME_possession_goal_ratio_{timeframe}'] = combined_data[f'HOME_TEAM_BALL_POSSESSION_{timeframe}_average'] / (combined_data[f'HOME_TEAM_GOALS_{timeframe}_sum'] + 1)\n",
        "    combined_data[f'AWAY_possession_goal_ratio_{timeframe}'] = combined_data[f'AWAY_TEAM_BALL_POSSESSION_{timeframe}_average'] / (combined_data[f'AWAY_TEAM_GOALS_{timeframe}_sum'] + 1)\n",
        "    #corners\n",
        "    combined_data[f'set_piece_efficiency_home_{timeframe}'] = combined_data[f'HOME_TEAM_GOALS_{timeframe}_sum'] / (combined_data[f'HOME_TEAM_CORNERS_{timeframe}_sum'] + 1)\n",
        "    combined_data[f'set_piece_efficiency_away_{timeframe}'] = combined_data[f'AWAY_TEAM_GOALS_{timeframe}_sum'] / (combined_data[f'AWAY_TEAM_CORNERS_{timeframe}_sum'] + 1)\n",
        "    #possession to create dangerous attacks\n",
        "    combined_data[f'possession_utilization_home_{timeframe}'] = combined_data[f'HOME_TEAM_DANGEROUS_ATTACKS_{timeframe}_sum'] / (combined_data[f'HOME_TEAM_BALL_POSSESSION_{timeframe}_average'] + 1)\n",
        "    combined_data[f'possession_utilization_away_{timeframe}'] = combined_data[f'AWAY_TEAM_DANGEROUS_ATTACKS_{timeframe}_sum'] / (combined_data[f'AWAY_TEAM_BALL_POSSESSION_{timeframe}_average'] + 1)\n",
        "\n"
      ]
    },
    {
      "cell_type": "markdown",
      "metadata": {
        "id": "h3mhG_2wZuxU"
      },
      "source": [
        "#### Defensive metrics"
      ]
    },
    {
      "cell_type": "code",
      "execution_count": null,
      "metadata": {
        "colab": {
          "background_save": true
        },
        "id": "2LT9W-_TZlrD"
      },
      "outputs": [],
      "source": [
        "timeframes = ['season', '5_last_match']\n",
        "for timeframe in timeframes:\n",
        "    # Defensive Strength\n",
        "    combined_data[f'HOME_defensive_strength_{timeframe}'] = combined_data[f'HOME_TEAM_SAVES_{timeframe}_sum'] / (combined_data[f'AWAY_TEAM_SHOTS_ON_TARGET_{timeframe}_sum'] + 1)\n",
        "    combined_data[f'AWAY_defensive_strength_{timeframe}'] = combined_data[f'AWAY_TEAM_SAVES_{timeframe}_sum'] / (combined_data[f'HOME_TEAM_SHOTS_ON_TARGET_{timeframe}_sum'] + 1)\n",
        "\n",
        "    # Fouls to Yellow Card Ratio\n",
        "    combined_data[f'HOME_fouls_to_yellow_ratio_{timeframe}'] = combined_data[f'HOME_TEAM_FOULS_{timeframe}_sum'] / (combined_data[f'HOME_TEAM_YELLOWCARDS_{timeframe}_sum'] + 1)\n",
        "    combined_data[f'AWAY_fouls_to_yellow_ratio_{timeframe}'] = combined_data[f'AWAY_TEAM_FOULS_{timeframe}_sum'] / (combined_data[f'AWAY_TEAM_YELLOWCARDS_{timeframe}_sum'] + 1)\n",
        "\n"
      ]
    },
    {
      "cell_type": "markdown",
      "metadata": {
        "id": "tdQx-izbZ88A"
      },
      "source": [
        "#### Engagement & Discipline Features"
      ]
    },
    {
      "cell_type": "code",
      "execution_count": null,
      "metadata": {
        "colab": {
          "background_save": true
        },
        "id": "ql66nXVrZ8UO"
      },
      "outputs": [],
      "source": [
        "for timeframe in ['season', '5_last_match']:\n",
        "    #Substitution\n",
        "    combined_data[f'HOME_substitution_utilization_{timeframe}'] = combined_data[f'HOME_TEAM_SUBSTITUTIONS_{timeframe}_sum'] / (combined_data[f'HOME_TEAM_GAME_WON_{timeframe}_sum']  + 1)\n",
        "    combined_data[f'AWAY_substitution_utilization_{timeframe}'] = combined_data[f'AWAY_TEAM_SUBSTITUTIONS_{timeframe}_sum'] / (combined_data[f'AWAY_TEAM_GAME_WON_{timeframe}_sum']  + 1)\n",
        "\n",
        "    combined_data[f'HOME_fouls_to_cards_ratio_{timeframe}'] = combined_data[f'HOME_TEAM_FOULS_{timeframe}_sum'] / (combined_data[f'HOME_TEAM_YELLOWCARDS_{timeframe}_sum'] + combined_data[f'HOME_TEAM_REDCARDS_{timeframe}_sum'] + 1)\n",
        "    combined_data[f'AWAY_fouls_to_cards_ratio_{timeframe}'] = combined_data[f'AWAY_TEAM_FOULS_{timeframe}_sum'] / (combined_data[f'AWAY_TEAM_YELLOWCARDS_{timeframe}_sum'] + combined_data[f'AWAY_TEAM_REDCARDS_{timeframe}_sum'] + 1)\n",
        "\n",
        "    combined_data[f'HOME_card_severity_index_{timeframe}'] = (combined_data[f'HOME_TEAM_YELLOWCARDS_{timeframe}_sum'] + 2 * combined_data[f'HOME_TEAM_REDCARDS_{timeframe}_sum']) / (combined_data[f'HOME_TEAM_FOULS_{timeframe}_sum'] + 1)\n",
        "    combined_data[f'AWAY_card_severity_index_{timeframe}'] = (combined_data[f'AWAY_TEAM_YELLOWCARDS_{timeframe}_sum'] + 2 * combined_data[f'AWAY_TEAM_REDCARDS_{timeframe}_sum']) / (combined_data[f'AWAY_TEAM_FOULS_{timeframe}_sum'] + 1)"
      ]
    },
    {
      "cell_type": "code",
      "execution_count": null,
      "metadata": {
        "colab": {
          "background_save": true
        },
        "id": "pEGRxiBhcKAD"
      },
      "outputs": [],
      "source": [
        "train_team_data_fe = combined_data[combined_data['is_train'] == 1].drop('is_train', axis=1)\n",
        "test_team_data_fe = combined_data[combined_data['is_train'] == 0].drop('is_train', axis=1)"
      ]
    },
    {
      "cell_type": "code",
      "execution_count": null,
      "metadata": {
        "colab": {
          "background_save": true,
          "base_uri": "https://localhost:8080/"
        },
        "id": "QHiZrKtLB2KU",
        "outputId": "304221b5-82e1-40d5-c8ac-31b789cb8a74"
      },
      "outputs": [],
      "source": [
        "test_team_data_fe.shape"
      ]
    },
    {
      "cell_type": "code",
      "execution_count": null,
      "metadata": {
        "id": "axJSmCo18P4K"
      },
      "outputs": [],
      "source": []
    },
    {
      "cell_type": "markdown",
      "metadata": {
        "id": "Xfsvm0UN8Rk7"
      },
      "source": [
        "## Correlation"
      ]
    },
    {
      "cell_type": "code",
      "execution_count": null,
      "metadata": {
        "colab": {
          "base_uri": "https://localhost:8080/",
          "height": 424
        },
        "id": "LiySLpiZ8UwK",
        "outputId": "f1b6f25a-e801-47b2-9990-316430d0442e"
      },
      "outputs": [],
      "source": [
        "def top_correlated_features(features_data, target_data, target_name):\n",
        "    correlations = []\n",
        "    target = target_data[target_name]\n",
        "\n",
        "    numeric_features_data = features_data.select_dtypes(include=[np.number])\n",
        "\n",
        "    for feature in numeric_features_data.columns:\n",
        "      corr, _ = pearsonr(numeric_features_data[feature], target)\n",
        "      correlations.append((feature, corr))\n",
        "    corr_df = pd.DataFrame(correlations, columns=['Feature', 'Correlation'])\n",
        "    corr_df['Correlation'] = abs(corr_df['Correlation'])\n",
        "    corr_df = corr_df.sort_values(by='Correlation', ascending=False)\n",
        "\n",
        "    return corr_df\n",
        "\n",
        "train_team_data_fe = train_team_data_fe.loc[:, ~train_team_data_fe.columns.duplicated()]\n",
        "train_team_data_fe = train_team_data_fe.astype(float)\n",
        "train_team_data_fe.index.name = 'ID'\n",
        "\n",
        "correlated_HOME_WINS = top_correlated_features(train_team_data_fe, train_scores, 'HOME_WINS')\n",
        "correlated_AWAY_WINS = top_correlated_features(train_team_data_fe, train_scores, 'AWAY_WINS')\n",
        "correlated_DRAW = top_correlated_features(train_team_data_fe, train_scores, 'DRAW')\n",
        "correlated_Outcome = top_correlated_features(train_team_data_fe, train_scores, 'Outcome')\n",
        "\n",
        "\n",
        "correlated_HOME_WINS = correlated_HOME_WINS.rename(columns={'Correlation': 'Correlation_HOME'})\n",
        "correlated_AWAY_WINS = correlated_AWAY_WINS.rename(columns={'Correlation': 'Correlation_AWAY'})\n",
        "correlated_DRAW = correlated_DRAW.rename(columns={'Correlation': 'Correlation_DRAW'})\n",
        "correlated_Outcome = correlated_Outcome.rename(columns={'Correlation': 'Correlation_Outcome'})\n",
        "\n",
        "corr_home_away = correlated_HOME_WINS.merge(correlated_AWAY_WINS, on='Feature', how ='left')\n",
        "corr_data = corr_home_away.merge(correlated_DRAW, on='Feature', how ='left')\n",
        "corr_data_team = corr_data.merge(correlated_Outcome, on='Feature', how ='left')\n",
        "\n",
        "corr_data_team\n"
      ]
    },
    {
      "cell_type": "code",
      "execution_count": null,
      "metadata": {
        "colab": {
          "base_uri": "https://localhost:8080/",
          "height": 677
        },
        "id": "COIWzoZ68UnW",
        "outputId": "923f6ef3-416f-4d9c-da32-25de6c572aa2"
      },
      "outputs": [],
      "source": [
        "corr_data_team['mean_Correlation'] = (corr_data_team['Correlation_HOME'] + corr_data_team['Correlation_AWAY'] + corr_data_team['Correlation_DRAW'])/3\n",
        "corr_data_team['max_Correlation'] = corr_data_team[['Correlation_HOME', 'Correlation_AWAY', 'Correlation_DRAW']].max(axis=1)\n",
        "corr_data_team.sort_values(\"Correlation_Outcome\", ascending=False).head(20)"
      ]
    },
    {
      "cell_type": "code",
      "execution_count": null,
      "metadata": {
        "colab": {
          "base_uri": "https://localhost:8080/",
          "height": 755
        },
        "id": "PcTQaSWN8UDl",
        "outputId": "a4eb2767-01ca-4c2e-e380-6dcc3e82be98"
      },
      "outputs": [],
      "source": [
        "heatmap_data = corr_data_team.set_index('Feature').dropna()\n",
        "plt.figure(figsize=(7, 7))\n",
        "sns.heatmap(heatmap_data, cmap='coolwarm')\n",
        "plt.title('Feature Correlations')\n",
        "plt.show()"
      ]
    },
    {
      "cell_type": "code",
      "execution_count": null,
      "metadata": {
        "colab": {
          "base_uri": "https://localhost:8080/"
        },
        "id": "a7F6amghkhsd",
        "outputId": "31ee7652-6db3-4f80-93db-7e64a445fd50"
      },
      "outputs": [],
      "source": [
        "len(corr_data_team[(corr_data_team['max_Correlation'] > 0.01)])"
      ]
    },
    {
      "cell_type": "code",
      "execution_count": null,
      "metadata": {
        "colab": {
          "base_uri": "https://localhost:8080/"
        },
        "id": "7iQlYH1Ek8Wu",
        "outputId": "aa70db2a-1b7b-4cfc-8019-9ed044fbd110"
      },
      "outputs": [],
      "source": [
        "print(len(corr_data_team[(corr_data_team['max_Correlation'] > 0.01)]))\n",
        "print(train_team_data_fe.shape)\n",
        "print(test_team_data_fe.shape)\n",
        "\n",
        "selected_features = corr_data_team[(corr_data_team['max_Correlation'] > 0.01)]['Feature'].to_list()\n",
        "train_team_data_fe = train_team_data_fe[selected_features]\n",
        "test_team_data_fe = test_team_data_fe[selected_features]\n",
        "\n",
        "print(train_team_data_fe.shape)\n",
        "print(test_team_data_fe.shape)"
      ]
    },
    {
      "cell_type": "markdown",
      "metadata": {
        "id": "jPC4332KBeIO"
      },
      "source": [
        "## VIZ"
      ]
    },
    {
      "cell_type": "code",
      "execution_count": null,
      "metadata": {
        "id": "lzzuErFYBu3_"
      },
      "outputs": [],
      "source": [
        "train_data_all = pd.concat([train_team_data_fe, train_scores['HOME_WINS']], axis=1)"
      ]
    },
    {
      "cell_type": "code",
      "execution_count": null,
      "metadata": {
        "colab": {
          "base_uri": "https://localhost:8080/",
          "height": 696
        },
        "id": "49cgpgq-BdhF",
        "outputId": "5614489d-7080-450e-ae0e-02b345f34c99"
      },
      "outputs": [],
      "source": [
        "plt.figure(figsize=(12, 8))\n",
        "feat = \"TEAM_SHOTS_INSIDEBOX_diff_season_average\"\n",
        "plt.subplot(1,2,1)\n",
        "sns.violinplot(x = 'HOME_WINS', y = feat, data = train_data_all[0:])\n",
        "\n",
        "plt.subplot(1,2,2)\n",
        "sns.distplot(train_data_all[train_data_all['HOME_WINS'] == 1.0][feat][0:] , label = \"1\", color = 'red')\n",
        "sns.distplot(train_data_all[train_data_all['HOME_WINS'] == 0.0][feat][0:] , label = \"0\" , color = 'blue' )\n",
        "sns.distplot(train_data_all[train_data_all['HOME_WINS'] == 2.0][feat][0:] , label = \"2\" , color = 'yellow' )\n",
        "\n",
        "plt.show()"
      ]
    },
    {
      "cell_type": "code",
      "execution_count": null,
      "metadata": {
        "colab": {
          "base_uri": "https://localhost:8080/"
        },
        "id": "UXiVb2WlCMZ-",
        "outputId": "02cac19b-f658-4816-b2d9-3d6d39c8dfc2"
      },
      "outputs": [],
      "source": [
        "corr_data.Feature"
      ]
    },
    {
      "cell_type": "code",
      "execution_count": null,
      "metadata": {
        "colab": {
          "base_uri": "https://localhost:8080/",
          "height": 1000
        },
        "id": "yeNGE0f7BdHG",
        "outputId": "37d29351-b418-4187-f5ae-becdd2dc8812"
      },
      "outputs": [],
      "source": [
        "n = train_data_all.shape[0]\n",
        "sns.pairplot(train_data_all[['TEAM_SHOTS_INSIDEBOX_diff_season_average', 'TEAM_SHOTS_INSIDEBOX_diff_season_sum',\n",
        "       'TEAM_GAME_WON_diff_season_average', 'TEAM_SHOTS_ON_TARGET_diff_season_average', 'HOME_WINS']][0:n], hue='HOME_WINS', vars=['TEAM_SHOTS_INSIDEBOX_diff_season_average', 'TEAM_SHOTS_INSIDEBOX_diff_season_sum',\n",
        "       'TEAM_GAME_WON_diff_season_average', 'TEAM_SHOTS_ON_TARGET_diff_season_average'])\n",
        "plt.show()"
      ]
    },
    {
      "cell_type": "markdown",
      "metadata": {
        "id": "mjiusHcfcK6V"
      },
      "source": [
        "## FE Player Data"
      ]
    },
    {
      "cell_type": "code",
      "execution_count": null,
      "metadata": {
        "id": "GMcIfdf2aFZX"
      },
      "outputs": [],
      "source": [
        "def count_positions(group):\n",
        "    positions_count = {\n",
        "        'midfielder': 0,\n",
        "        'defender': 0,\n",
        "        'goalkeeper': 0,\n",
        "        'attacker': 0\n",
        "    }\n",
        "    for position in group['POSITION']:\n",
        "        if position in positions_count:\n",
        "            positions_count[position] += 1\n",
        "    return pd.Series(positions_count)\n",
        "\n",
        "def data_groupby(df):\n",
        "  positions_counts = df.groupby('ID').apply(count_positions)\n",
        "  positions_counts['players_count'] = positions_counts['midfielder'] + positions_counts['defender'] + positions_counts['goalkeeper'] + positions_counts['attacker']\n",
        "  summed_metrics_per_id = df.drop(columns=['POSITION']).groupby('ID').sum()\n",
        "\n",
        "  train_player_home_with_counts = summed_metrics_per_id.merge(positions_counts, on='ID', how='left')\n",
        "\n",
        "  return train_player_home_with_counts\n",
        "\n",
        "def add_missing_indicators(df, missing_threshold=0.01, consider_columns=None):\n",
        "    if consider_columns is None:\n",
        "        consider_columns = df.columns\n",
        "\n",
        "    missing_stats = df[consider_columns].isna().mean()\n",
        "    features_with_lots_of_nans = missing_stats[missing_stats > missing_threshold].index.tolist()\n",
        "    print(features_with_lots_of_nans)\n",
        "    for feature in features_with_lots_of_nans:\n",
        "        indicator_feature_name = f\"{feature}_is_nan\"\n",
        "        df[indicator_feature_name] = df[feature].isna().astype(int)\n",
        "    return df\n",
        "\n",
        "def process_dataframe(df):\n",
        "    selected_features = df.columns[4:]\n",
        "    df['Selected_NaN_Count'] = df[selected_features].isna().sum(axis=1)\n",
        "\n",
        "    df_columns = df.iloc[:,4:].columns.to_list()\n",
        "    for feat in df_columns:\n",
        "        df[feat] = df.groupby(['TEAM_NAME', 'POSITION'])[feat].transform(lambda x: x.fillna(x.mode().iloc[0] if not x.mode().empty else x.mean()))\n",
        "\n",
        "    df.iloc[:, 4:] = df.iloc[:, 4:].fillna(\n",
        "        df.iloc[:, 4:].mean()\n",
        "    )\n",
        "\n",
        "    return df"
      ]
    },
    {
      "cell_type": "code",
      "execution_count": null,
      "metadata": {
        "colab": {
          "background_save": true
        },
        "id": "u1kcnQXgchXX"
      },
      "outputs": [],
      "source": [
        "\n",
        "train_home_player_statistics_df = pd.read_csv('Train_Data/train_home_player_statistics_df.csv', index_col=0)\n",
        "train_away_player_statistics_df = pd.read_csv('Train_Data/train_away_player_statistics_df.csv', index_col=0)\n",
        "\n",
        "# train_home_player_statistics_df = add_missing_indicators(train_home_player_statistics_df, missing_threshold=0.2)\n",
        "# train_home_player_statistics_df = process_dataframe(train_home_player_statistics_df)\n",
        "\n",
        "# train_away_player_statistics_df = add_missing_indicators(train_away_player_statistics_df, missing_threshold=0.2)\n",
        "# train_away_player_statistics_df = process_dataframe(train_away_player_statistics_df)\n",
        "\n",
        "train_player_home = train_home_player_statistics_df.iloc[:,2:]\n",
        "train_player_away = train_away_player_statistics_df.iloc[:,2:]\n",
        "\n",
        "train_player_home = train_player_home.drop(columns=['PLAYER_NAME'])\n",
        "train_player_away = train_player_away.drop(columns=['PLAYER_NAME'])\n",
        "\n",
        "train_player_home = data_groupby(train_player_home)\n",
        "train_player_away = data_groupby(train_player_away)\n",
        "\n",
        "train_player_home.columns = 'HOME_' + train_player_home.columns\n",
        "train_player_away.columns = 'AWAY_' + train_player_away.columns\n",
        "\n",
        "train_player_home = train_player_home.fillna(train_player_home.median())\n",
        "train_player_away = train_player_away.fillna(train_player_away.median())\n",
        "\n",
        "train_player_data =  pd.concat([train_player_home,train_player_away],join='inner',axis=1)\n",
        "train_player_data = train_player_data.replace({np.inf:np.nan,-np.inf:np.nan})\n",
        "\n",
        "\n",
        "test_player_home = pd.read_csv('Test_Data/test_home_player_statistics_df.csv', index_col=0)\n",
        "test_player_away = pd.read_csv('Test_Data/test_away_player_statistics_df.csv', index_col=0)\n",
        "\n",
        "# test_player_home = add_missing_indicators(test_player_home, missing_threshold=0.2)\n",
        "# test_player_away = add_missing_indicators(test_player_away, missing_threshold=0.2)\n",
        "\n",
        "test_player_home = data_groupby(test_player_home)\n",
        "test_player_away = data_groupby(test_player_away)\n",
        "\n",
        "test_player_home.columns = 'HOME_' + test_player_home.columns\n",
        "test_player_away.columns = 'AWAY_' + test_player_away.columns\n",
        "\n",
        "test_player_home = test_player_home.fillna(test_player_home.median())\n",
        "test_player_away = test_player_away.fillna(test_player_away.median())\n",
        "\n",
        "test_player_data =  pd.concat([test_player_home,test_player_away],join='inner',axis=1)\n"
      ]
    },
    {
      "cell_type": "code",
      "execution_count": null,
      "metadata": {
        "colab": {
          "background_save": true,
          "base_uri": "https://localhost:8080/",
          "height": 391
        },
        "id": "E2e7d0XBCHbv",
        "outputId": "e4fb1d41-7877-41ac-aa17-70102c65bbb2"
      },
      "outputs": [],
      "source": [
        "test_player_data.shape"
      ]
    },
    {
      "cell_type": "code",
      "execution_count": null,
      "metadata": {
        "colab": {
          "base_uri": "https://localhost:8080/",
          "height": 780
        },
        "id": "c3kdi_gfmSBD",
        "outputId": "b2f1051f-a7e2-4ced-e356-59d7818bffe0"
      },
      "outputs": [],
      "source": [
        "correlated_HOME_WINS = top_correlated_features(train_player_data, train_scores, 'HOME_WINS')\n",
        "correlated_AWAY_WINS = top_correlated_features(train_player_data, train_scores, 'AWAY_WINS')\n",
        "correlated_DRAW = top_correlated_features(train_player_data, train_scores, 'DRAW')\n",
        "correlated_Outcome = top_correlated_features(train_player_data, train_scores, 'Outcome')\n",
        "\n",
        "\n",
        "correlated_HOME_WINS = correlated_HOME_WINS.rename(columns={'Correlation': 'Correlation_HOME'})\n",
        "correlated_AWAY_WINS = correlated_AWAY_WINS.rename(columns={'Correlation': 'Correlation_AWAY'})\n",
        "correlated_DRAW = correlated_DRAW.rename(columns={'Correlation': 'Correlation_DRAW'})\n",
        "correlated_Outcome = correlated_Outcome.rename(columns={'Correlation': 'Correlation_Outcome'})\n",
        "\n",
        "corr_home_away = correlated_HOME_WINS.merge(correlated_AWAY_WINS, on='Feature', how ='left')\n",
        "corr_data = corr_home_away.merge(correlated_DRAW, on='Feature', how ='left')\n",
        "corr_data_player = corr_data.merge(correlated_Outcome, on='Feature', how ='left')\n",
        "\n",
        "corr_data_player"
      ]
    },
    {
      "cell_type": "code",
      "execution_count": null,
      "metadata": {
        "colab": {
          "base_uri": "https://localhost:8080/",
          "height": 1000
        },
        "id": "IWF19F8vnjXC",
        "outputId": "51e75f94-d5b6-43b8-d0a6-40690841e612"
      },
      "outputs": [],
      "source": [
        "corr_data_player = corr_data_player.fillna(0)\n",
        "corr_data_player['mean_Correlation'] = (corr_data_player['Correlation_HOME'] + corr_data_player['Correlation_AWAY'] + corr_data_player['Correlation_DRAW'])/3\n",
        "corr_data_player['max_Correlation'] = corr_data_player[['Correlation_HOME', 'Correlation_AWAY', 'Correlation_DRAW']].max(axis=1)\n",
        "\n",
        "corr_data_player.sort_values(\"max_Correlation\", ascending=False).head(20)"
      ]
    },
    {
      "cell_type": "code",
      "execution_count": null,
      "metadata": {
        "colab": {
          "base_uri": "https://localhost:8080/",
          "height": 755
        },
        "id": "RN5tAv8emRjZ",
        "outputId": "ab7756ca-3a1d-4f4e-c80b-e7509ca6a309"
      },
      "outputs": [],
      "source": [
        "heatmap_data = corr_data_player.set_index('Feature').dropna()\n",
        "plt.figure(figsize=(7, 7))\n",
        "sns.heatmap(heatmap_data, cmap='coolwarm')\n",
        "plt.title('Feature Correlations')\n",
        "plt.show()"
      ]
    },
    {
      "cell_type": "code",
      "execution_count": null,
      "metadata": {
        "colab": {
          "base_uri": "https://localhost:8080/",
          "height": 391
        },
        "id": "uM-GtAXEnzAH",
        "outputId": "d5424d26-823d-499f-be6f-b99f1ac23683"
      },
      "outputs": [],
      "source": [
        "print(len(corr_data_player[(corr_data_player['max_Correlation'] > 0.01)]))"
      ]
    },
    {
      "cell_type": "code",
      "execution_count": null,
      "metadata": {
        "colab": {
          "base_uri": "https://localhost:8080/",
          "height": 921
        },
        "id": "y2HlUyIMno5Q",
        "outputId": "1648d6dc-62a5-459d-9d2c-1c35d45b0b05"
      },
      "outputs": [],
      "source": [
        "print(train_player_data.shape)\n",
        "print(test_player_data.shape)\n",
        "\n",
        "selected_features = corr_data_player[(corr_data_player['max_Correlation'] > 0.00001)]['Feature'].to_list()\n",
        "train_player_data = train_player_data[selected_features]\n",
        "test_player_data = test_player_data[selected_features]\n",
        "\n",
        "print(train_player_data.shape)\n",
        "print(test_player_data.shape)"
      ]
    },
    {
      "cell_type": "markdown",
      "metadata": {
        "id": "ehVVtTZ9gEeS"
      },
      "source": [
        "## Save FE data"
      ]
    },
    {
      "cell_type": "code",
      "execution_count": null,
      "metadata": {
        "colab": {
          "background_save": true
        },
        "id": "OhUitTRye3ON"
      },
      "outputs": [],
      "source": [
        "train_data_to_modeling = pd.concat([train_team_data_fe, train_player_data], axis = 1)\n",
        "test_data_to_modeling = pd.concat([test_team_data_fe, test_player_data], axis = 1)\n",
        "train_scores['Outcome'] = train_scores.apply(combine_outcomes, axis=1)\n",
        "train_new_y = train_scores['Outcome']\n",
        "train_scores_supp['GOAL_DIFF_HOME_AWAY'] = pd.to_numeric(train_scores_supp['GOAL_DIFF_HOME_AWAY'], errors='coerce')\n",
        "\n",
        "train_new_y_supp = train_scores_supp['GOAL_DIFF_HOME_AWAY']\n",
        "\n",
        "# test_data_to_modeling.shape\n",
        "train_data_to_modeling.to_csv('FE_Data/train_data_to_modeling.csv')\n",
        "test_data_to_modeling.to_csv('FE_Data/test_data_to_modeling.csv')\n",
        "train_new_y.to_csv('FE_Data/train_new_y.csv')\n",
        "\n"
      ]
    },
    {
      "cell_type": "code",
      "execution_count": null,
      "metadata": {
        "id": "o8h7FfdBgZCV"
      },
      "outputs": [],
      "source": [
        "train_data_to_modeling = pd.read_csv('FE_Data/train_data_to_modeling.csv', index_col=0)\n",
        "test_data_to_modeling = pd.read_csv('FE_Data/test_data_to_modeling.csv', index_col=0)\n",
        "train_new_y = pd.read_csv('FE_Data/train_new_y.csv', index_col=0)\n"
      ]
    },
    {
      "cell_type": "markdown",
      "metadata": {
        "id": "jv7nOy1EgQrR"
      },
      "source": [
        "# Modeling"
      ]
    },
    {
      "cell_type": "markdown",
      "metadata": {
        "id": "gTlJX3sSSaGF"
      },
      "source": [
        "## LGBM"
      ]
    },
    {
      "cell_type": "code",
      "execution_count": null,
      "metadata": {
        "id": "V6YJXv0ugKrQ"
      },
      "outputs": [],
      "source": [
        "import optuna\n",
        "import lightgbm as lgb\n",
        "from sklearn import metrics, model_selection\n",
        "\n",
        "def tune_lgbm_params(train_data_fe, train_new_y):\n",
        "\n",
        "  def objective(trial):\n",
        "      n_splits = 5\n",
        "      cv_results = []\n",
        "\n",
        "      kf = model_selection.RepeatedStratifiedKFold(n_splits=5, n_repeats=3, random_state=42)\n",
        "\n",
        "      for train_index, valid_index in kf.split(train_data_fe, train_new_y):\n",
        "          X_train, X_valid = train_data_fe.iloc[train_index], train_data_fe.iloc[valid_index]\n",
        "          y_train, y_valid = train_new_y.iloc[train_index], train_new_y.iloc[valid_index]\n",
        "\n",
        "\n",
        "          param = {\n",
        "              'objective': 'multiclass',\n",
        "              'boosting_type':'goss',\n",
        "              # 'metric': 'multi_logloss',\n",
        "              'num_class': 3,\n",
        "              'verbosity': -1,\n",
        "              # 'num_threads': -1,\n",
        "              'early_stopping_rounds':200,\n",
        "              'reg_lambda': trial.suggest_float('reg_lambda', 0, 0.3),\n",
        "              'n_estimators': trial.suggest_int('n_estimators', 2000, 5000),\n",
        "              'num_leaves': trial.suggest_int('num_leaves', 200, 5000),\n",
        "              'max_depth': trial.suggest_int('max_depth', 3, 30),\n",
        "              'learning_rate': trial.suggest_float('learning_rate', 0.001, 0.3),\n",
        "              'feature_fraction': trial.suggest_float('feature_fraction', 0.5, 1.0),\n",
        "              # 'bagging_fraction': trial.suggest_float('bagging_fraction', 0.5, 1.0),\n",
        "              # 'bagging_freq': trial.suggest_int('bagging_freq', 1, 5),\n",
        "              'min_gain_to_split': trial.suggest_float('min_gain_to_split', 0, 15),\n",
        "              'min_data_in_leaf': trial.suggest_int('min_data_in_leaf', 2, 300),\n",
        "          }\n",
        "\n",
        "          lgb_train = lgb.Dataset(X_train, y_train)\n",
        "          lgb_eval = lgb.Dataset(X_valid, y_valid, reference=lgb_train)\n",
        "\n",
        "          model = lgb.train(param, lgb_train, valid_sets=[lgb_eval])\n",
        "\n",
        "\n",
        "          preds = model.predict(X_valid, num_iteration=model.best_iteration)\n",
        "          preds = np.argmax(preds, axis=1)\n",
        "          # conf_matrix = metrics.confusion_matrix(\n",
        "          #                     y_valid, preds, sample_weight=None,\n",
        "          #                     normalize=None\n",
        "          #                     )\n",
        "          # print(conf_matrix)\n",
        "          acc = metrics.accuracy_score(y_valid, preds)\n",
        "\n",
        "          cv_results.append(acc)\n",
        "\n",
        "      avg_acc = np.mean(cv_results)\n",
        "\n",
        "      return avg_acc\n",
        "\n",
        "  study = optuna.create_study(direction='maximize')\n",
        "  study.optimize(objective, n_trials=50)\n",
        "  best_params_lgbm = study.best_trials.params\n",
        "\n",
        "  print('Best trial:', study.best_trial.params)\n",
        "\n",
        "  return best_params_lgbm\n"
      ]
    },
    {
      "cell_type": "code",
      "execution_count": null,
      "metadata": {
        "colab": {
          "base_uri": "https://localhost:8080/",
          "height": 706
        },
        "id": "8WPgK594lmb0",
        "outputId": "4cda8d28-8005-47db-c323-8c4a82350fed"
      },
      "outputs": [],
      "source": [
        "best_params_lgbm = tune_lgbm_params(train_data_to_modeling, train_new_y)\n",
        "print(best_params_lgbm)"
      ]
    },
    {
      "cell_type": "code",
      "execution_count": null,
      "metadata": {
        "id": "kwPeLmNGiQQa"
      },
      "outputs": [],
      "source": [
        "def test_predict(train, test, y, best_params_lgbm):\n",
        "  best_params_lgbm['boosting_type'] = 'goss'\n",
        "  best_params_lgbm['objective'] = 'multiclass'\n",
        "  # best_params_lgbm['metric'] = 'multi_logloss'\n",
        "  best_params_lgbm['num_class'] = 3\n",
        "  best_params_lgbm['verbosity'] = -1\n",
        "  lgb_full_train = lgb.Dataset(train, y)\n",
        "  final_model = lgb.train(best_params_lgbm, lgb_full_train)\n",
        "  test_predictions = final_model.predict(test)\n",
        "  test_predictions = np.argmax(test_predictions, axis=1)\n",
        "  return test_predictions\n"
      ]
    },
    {
      "cell_type": "code",
      "execution_count": null,
      "metadata": {
        "id": "ItxtNJxDx7S9"
      },
      "outputs": [],
      "source": [
        "predictions = test_predict(train_data_to_modeling, test_data_to_modeling, train_new_y, best_params_lgbm)"
      ]
    },
    {
      "cell_type": "code",
      "execution_count": null,
      "metadata": {
        "id": "AWLlJNaxiT0C"
      },
      "outputs": [],
      "source": [
        "def generate_predictions(test, predictions):\n",
        "\n",
        "  submission_df = pd.DataFrame(0, index=np.arange(len(predictions)), columns=['HOME_WINS', 'DRAW', 'AWAY_WINS'])\n",
        "\n",
        "  submission_df.loc[predictions == 1, 'HOME_WINS'] = 1\n",
        "  submission_df.loc[predictions == 0, 'DRAW'] = 1\n",
        "  submission_df.loc[predictions == 2, 'AWAY_WINS'] = 1\n",
        "\n",
        "  submission_df.columns = ['HOME_WINS', 'DRAW', 'AWAY_WINS']\n",
        "  submission_df.index = test.index\n",
        "  submission_df = submission_df.reset_index()\n",
        "  submission_df.columns = ['ID', 'HOME_WINS', 'DRAW', 'AWAY_WINS']\n",
        "  # submission_df = submission_df.reset_index(drop=True)\n",
        "\n",
        "  return submission_df\n"
      ]
    },
    {
      "cell_type": "code",
      "execution_count": null,
      "metadata": {
        "id": "fX-1Tg6C0WFi"
      },
      "outputs": [],
      "source": [
        "submission_df = generate_predictions(test_home, predictions)"
      ]
    },
    {
      "cell_type": "code",
      "execution_count": null,
      "metadata": {
        "colab": {
          "base_uri": "https://localhost:8080/"
        },
        "id": "OrGMBuNRMfzK",
        "outputId": "ef6d2bdb-182e-4360-d810-5de326240ab0"
      },
      "outputs": [],
      "source": [
        "submission_df[['HOME_WINS', 'DRAW', 'AWAY_WINS']].value_counts()/len(submission_df)"
      ]
    },
    {
      "cell_type": "code",
      "execution_count": null,
      "metadata": {
        "colab": {
          "base_uri": "https://localhost:8080/",
          "height": 424
        },
        "id": "886vIPqpx62x",
        "outputId": "bf7b8798-ead4-4bc3-e119-e367ec8502d2"
      },
      "outputs": [],
      "source": [
        "submission_df"
      ]
    },
    {
      "cell_type": "code",
      "execution_count": null,
      "metadata": {
        "id": "bvCnf5e40enB"
      },
      "outputs": [],
      "source": [
        "submission_df.to_csv('Submissions/submission.csv', index=False)"
      ]
    }
  ],
  "metadata": {
    "colab": {
      "collapsed_sections": [
        "E95iwcqfVyeH"
      ],
      "machine_shape": "hm",
      "provenance": [],
      "toc_visible": true
    },
    "kernelspec": {
      "display_name": "Python 3",
      "name": "python3"
    },
    "language_info": {
      "codemirror_mode": {
        "name": "ipython",
        "version": 3
      },
      "file_extension": ".py",
      "mimetype": "text/x-python",
      "name": "python",
      "nbconvert_exporter": "python",
      "pygments_lexer": "ipython3",
      "version": "3.9.5"
    }
  },
  "nbformat": 4,
  "nbformat_minor": 0
}
